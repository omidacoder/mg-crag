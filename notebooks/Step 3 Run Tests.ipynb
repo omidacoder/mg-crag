{
 "cells": [
  {
   "cell_type": "markdown",
   "metadata": {},
   "source": [
    "# Install Packages"
   ]
  },
  {
   "cell_type": "code",
   "execution_count": null,
   "metadata": {
    "colab": {
     "base_uri": "https://localhost:8080/",
     "height": 1000
    },
    "collapsed": true,
    "executionInfo": {
     "elapsed": 149124,
     "status": "ok",
     "timestamp": 1749724468770,
     "user": {
      "displayName": "work",
      "userId": "07186039381748229766"
     },
     "user_tz": -210
    },
    "id": "aC86KW6xQ1-G",
    "outputId": "4089d209-cbd6-4974-9942-cbee7df1d7f8"
   },
   "outputs": [],
   "source": [
    "!pip install openai\n",
    "!pip install langchain\n",
    "!pip install langchain_community\n",
    "!pip install bitsandbytes\n",
    "!pip install datasets\n",
    "!pip install langgraph\n",
    "!pip install langchain_google_genai\n",
    "!pip install langchain_huggingface\n",
    "!pip install vllm==0.8.2"
   ]
  },
  {
   "cell_type": "markdown",
   "metadata": {},
   "source": [
    "# Connect To Google Drive"
   ]
  },
  {
   "cell_type": "code",
   "execution_count": null,
   "metadata": {
    "colab": {
     "base_uri": "https://localhost:8080/"
    },
    "collapsed": true,
    "executionInfo": {
     "elapsed": 8841,
     "status": "ok",
     "timestamp": 1749725352741,
     "user": {
      "displayName": "work",
      "userId": "07186039381748229766"
     },
     "user_tz": -210
    },
    "id": "JE1Tk2lNdETU",
    "outputId": "c9db9b32-ead2-41c6-c20a-e3bd76b5df39"
   },
   "outputs": [],
   "source": [
    "from google.colab import drive\n",
    "drive.mount('/content/drive')\n"
   ]
  },
  {
   "cell_type": "markdown",
   "metadata": {},
   "source": [
    "# Definitions"
   ]
  },
  {
   "cell_type": "code",
   "execution_count": null,
   "metadata": {
    "executionInfo": {
     "elapsed": 2,
     "status": "ok",
     "timestamp": 1749725352741,
     "user": {
      "displayName": "work",
      "userId": "07186039381748229766"
     },
     "user_tz": -210
    },
    "id": "762pdhIeQHzc"
   },
   "outputs": [],
   "source": [
    "import os\n",
    "os.environ['search_key'] = 'put your key here'\n",
    "os.environ['hf_token'] = 'put your key here'\n",
    "os.environ['openai_key'] = 'put your key here'\n",
    "os.environ['gemini_api_key'] = 'put your key here'\n",
    "from src.DataLoaders.DataLoader import DataLoader\n",
    "from src.DataLoaders.Arc import Arc\n",
    "from src.DataLoaders.PubHealth import PubHealth\n",
    "from src.DataLoaders.PopQA import PopQA\n",
    "from src.RetrievalEvaluators.MultiGranularRetrievalEvaluator import MultiGranularRetrievalEvaluator\n",
    "from tools.llm_tool import llm\n",
    "from graph import workflow_compiler\n",
    "import torch\n",
    "from src.Helpers.Process import Process\n",
    "from src.Helpers.Utils import get_generator"
   ]
  },
  {
   "cell_type": "markdown",
   "metadata": {},
   "source": [
    "# Initialize the Process"
   ]
  },
  {
   "cell_type": "code",
   "execution_count": null,
   "metadata": {
    "executionInfo": {
     "elapsed": 11730,
     "status": "ok",
     "timestamp": 1749725472369,
     "user": {
      "displayName": "work",
      "userId": "07186039381748229766"
     },
     "user_tz": -210
    },
    "id": "SdMvk8ZREyM0"
   },
   "outputs": [],
   "source": [
    "\n",
    "app = workflow_compiler()\n",
    "dataloader, retrieval_evaluator= Arc(), MultiGranularRetrievalEvaluator().load_pretrained_model(plre_load_path='test.pt',slre_load_path='test2.pt') # for ARC\n",
    "# dataloader, retrieval_evaluator= PubHealth(), MultiGranularRetrievalEvaluator().load_pretrained_model(plre_load_path='test.pt',slre_load_path='test2.pt') # for Pubhealth\n",
    "# dataloader, retrieval_evaluator= PopQA(), MultiGranularRetrievalEvaluator().load_pretrained_model(plre_load_path='test.pt',slre_load_path='test2.pt') # for PopQA\n",
    "generator = get_generator(dataloader,retrieval_evaluator, llm, app)"
   ]
  },
  {
   "cell_type": "markdown",
   "metadata": {
    "id": "zRohtM7UpGaR"
   },
   "source": [
    "# Start selfrag-llama2-7b process\n"
   ]
  },
  {
   "cell_type": "code",
   "execution_count": 9,
   "metadata": {
    "executionInfo": {
     "elapsed": 6,
     "status": "ok",
     "timestamp": 1749725472371,
     "user": {
      "displayName": "work",
      "userId": "07186039381748229766"
     },
     "user_tz": -210
    },
    "id": "a3Tu1lMPy0hi"
   },
   "outputs": [],
   "source": [
    "# Run this and set load_generations=True to start from checkpoint\n",
    "load_generations = False\n",
    "checkpoint = 925\n",
    "# check the filename to match testing dataset\n",
    "pickle_file_name = 'outputs/autoencoder_results/popqa_temp_925.pickle'\n",
    "import pickle\n",
    "if load_generations == True:\n",
    "  with open(pickle_file_name, 'rb') as handle:\n",
    "    res = pickle.load(handle)\n",
    "    dataloader.generations = res['generations'][:checkpoint]\n",
    "    dataloader.generation_checkpoint = checkpoint"
   ]
  },
  {
   "cell_type": "code",
   "execution_count": null,
   "metadata": {
    "colab": {
     "base_uri": "https://localhost:8080/"
    },
    "executionInfo": {
     "elapsed": 594003,
     "status": "ok",
     "timestamp": 1749732169655,
     "user": {
      "displayName": "work",
      "userId": "07186039381748229766"
     },
     "user_tz": -210
    },
    "id": "2NTQQ6uh7ceR",
    "outputId": "ab137891-58fc-438f-c06c-2d18e2819d30"
   },
   "outputs": [],
   "source": [
    "\n",
    "with torch.no_grad():\n",
    "  process = Process(dataloader)\n",
    "  process.start(generator,load_sample_data_only=False,template='self-rag')\n",
    "print(\"The final accuracy is: \",process.accuracy)"
   ]
  },
  {
   "cell_type": "code",
   "execution_count": null,
   "metadata": {
    "colab": {
     "base_uri": "https://localhost:8080/",
     "height": 332
    },
    "executionInfo": {
     "elapsed": 5,
     "status": "error",
     "timestamp": 1749732197532,
     "user": {
      "displayName": "work",
      "userId": "07186039381748229766"
     },
     "user_tz": -210
    },
    "id": "Vvy5biKElBm1",
    "outputId": "4231b31e-c1fb-48c6-da24-a497b7c74087"
   },
   "outputs": [],
   "source": [
    "dataloader.statistics()"
   ]
  },
  {
   "cell_type": "code",
   "execution_count": null,
   "metadata": {
    "colab": {
     "base_uri": "https://localhost:8080/"
    },
    "executionInfo": {
     "elapsed": 1,
     "status": "ok",
     "timestamp": 1744029130057,
     "user": {
      "displayName": "Mehdi Eftekhary",
      "userId": "12035174488164228068"
     },
     "user_tz": -210
    },
    "id": "XGWXI13kLTgQ",
    "outputId": "e9152130-917f-47d2-f3ff-4bade29cea84"
   },
   "outputs": [],
   "source": [
    "high_wrong_counter = 0\n",
    "medium_wrong_counter = 0\n",
    "websearch_wrong_counter = 0\n",
    "high_correct_counter = 0\n",
    "medium_correct_counter = 0\n",
    "websearch_correct_counter = 0\n",
    "for i in range(len(dataloader.generations)):\n",
    "  if dataloader.generations[i] != dataloader.output_test_data[i]:\n",
    "    if retrieval_evaluator.number_of_selected['highs'][i] > 0:\n",
    "      high_wrong_counter += 1\n",
    "    elif retrieval_evaluator.number_of_selected['mediums'][i] > 0:\n",
    "      medium_wrong_counter += 1\n",
    "    else:\n",
    "      websearch_wrong_counter += 1\n",
    "  else:\n",
    "    if retrieval_evaluator.number_of_selected['highs'][i] > 0:\n",
    "      high_correct_counter += 1\n",
    "    elif retrieval_evaluator.number_of_selected['mediums'][i] > 0:\n",
    "      medium_correct_counter += 1\n",
    "    else:\n",
    "      websearch_correct_counter += 1\n",
    "print(\"number of high_wrong: \",high_wrong_counter)\n",
    "print(\"number of medium_wrong: \",medium_wrong_counter)\n",
    "print(\"number of websearch_wrong: \",websearch_wrong_counter)\n",
    "print(\"number of high_correct: \",high_correct_counter)\n",
    "print(\"number of medium_correct: \",medium_correct_counter)\n",
    "print(\"number of websearch_correct: \",websearch_correct_counter)"
   ]
  },
  {
   "cell_type": "code",
   "execution_count": null,
   "metadata": {
    "executionInfo": {
     "elapsed": 3,
     "status": "ok",
     "timestamp": 1749732169656,
     "user": {
      "displayName": "work",
      "userId": "07186039381748229766"
     },
     "user_tz": -210
    },
    "id": "CtWxyrtH22oD"
   },
   "outputs": [],
   "source": [
    "def save_model_outputs(self, save_path: str = 'outputs/autoencoder_results/arc.pickle') -> bool:\n",
    "     with open(save_path, 'wb') as handle:\n",
    "         pickle.dump({'input_test_data': self.input_test_data, 'generations': self.generations}, handle)"
   ]
  },
  {
   "cell_type": "code",
   "execution_count": 14,
   "metadata": {
    "executionInfo": {
     "elapsed": 2,
     "status": "ok",
     "timestamp": 1749732169656,
     "user": {
      "displayName": "work",
      "userId": "07186039381748229766"
     },
     "user_tz": -210
    },
    "id": "vJoljv3oqWhp"
   },
   "outputs": [],
   "source": [
    "save_model_outputs(dataloader)"
   ]
  }
 ],
 "metadata": {
  "accelerator": "GPU",
  "colab": {
   "gpuType": "L4",
   "machine_shape": "hm",
   "provenance": []
  },
  "kernelspec": {
   "display_name": "Python 3",
   "name": "python3"
  },
  "language_info": {
   "name": "python"
  },
  "widgets": {
   "application/vnd.jupyter.widget-state+json": {
    "04589f5741584f8091d3630e2ce0af78": {
     "model_module": "@jupyter-widgets/base",
     "model_module_version": "1.2.0",
     "model_name": "LayoutModel",
     "state": {
      "_model_module": "@jupyter-widgets/base",
      "_model_module_version": "1.2.0",
      "_model_name": "LayoutModel",
      "_view_count": null,
      "_view_module": "@jupyter-widgets/base",
      "_view_module_version": "1.2.0",
      "_view_name": "LayoutView",
      "align_content": null,
      "align_items": null,
      "align_self": null,
      "border": null,
      "bottom": null,
      "display": null,
      "flex": null,
      "flex_flow": null,
      "grid_area": null,
      "grid_auto_columns": null,
      "grid_auto_flow": null,
      "grid_auto_rows": null,
      "grid_column": null,
      "grid_gap": null,
      "grid_row": null,
      "grid_template_areas": null,
      "grid_template_columns": null,
      "grid_template_rows": null,
      "height": null,
      "justify_content": null,
      "justify_items": null,
      "left": null,
      "margin": null,
      "max_height": null,
      "max_width": null,
      "min_height": null,
      "min_width": null,
      "object_fit": null,
      "object_position": null,
      "order": null,
      "overflow": null,
      "overflow_x": null,
      "overflow_y": null,
      "padding": null,
      "right": null,
      "top": null,
      "visibility": null,
      "width": null
     }
    },
    "2336135fda134505a3424cb9676f7016": {
     "model_module": "@jupyter-widgets/controls",
     "model_module_version": "1.5.0",
     "model_name": "FloatProgressModel",
     "state": {
      "_dom_classes": [],
      "_model_module": "@jupyter-widgets/controls",
      "_model_module_version": "1.5.0",
      "_model_name": "FloatProgressModel",
      "_view_count": null,
      "_view_module": "@jupyter-widgets/controls",
      "_view_module_version": "1.5.0",
      "_view_name": "ProgressView",
      "bar_style": "success",
      "description": "",
      "description_tooltip": null,
      "layout": "IPY_MODEL_b8dcaf7a4b0d470bbc27676443e98dda",
      "max": 2,
      "min": 0,
      "orientation": "horizontal",
      "style": "IPY_MODEL_880e37f3848349be8e6d94b2b08869b4",
      "value": 2
     }
    },
    "572bf0c8a5d24822925a64429dab2a85": {
     "model_module": "@jupyter-widgets/controls",
     "model_module_version": "1.5.0",
     "model_name": "DescriptionStyleModel",
     "state": {
      "_model_module": "@jupyter-widgets/controls",
      "_model_module_version": "1.5.0",
      "_model_name": "DescriptionStyleModel",
      "_view_count": null,
      "_view_module": "@jupyter-widgets/base",
      "_view_module_version": "1.2.0",
      "_view_name": "StyleView",
      "description_width": ""
     }
    },
    "5f64d609527741b3814038eb6feb76ad": {
     "model_module": "@jupyter-widgets/controls",
     "model_module_version": "1.5.0",
     "model_name": "HBoxModel",
     "state": {
      "_dom_classes": [],
      "_model_module": "@jupyter-widgets/controls",
      "_model_module_version": "1.5.0",
      "_model_name": "HBoxModel",
      "_view_count": null,
      "_view_module": "@jupyter-widgets/controls",
      "_view_module_version": "1.5.0",
      "_view_name": "HBoxView",
      "box_style": "",
      "children": [
       "IPY_MODEL_81b303e985744669b2b063ece74633d7",
       "IPY_MODEL_2336135fda134505a3424cb9676f7016",
       "IPY_MODEL_d9b8bf770ed949aea735f8615af5a1ef"
      ],
      "layout": "IPY_MODEL_04589f5741584f8091d3630e2ce0af78"
     }
    },
    "81b303e985744669b2b063ece74633d7": {
     "model_module": "@jupyter-widgets/controls",
     "model_module_version": "1.5.0",
     "model_name": "HTMLModel",
     "state": {
      "_dom_classes": [],
      "_model_module": "@jupyter-widgets/controls",
      "_model_module_version": "1.5.0",
      "_model_name": "HTMLModel",
      "_view_count": null,
      "_view_module": "@jupyter-widgets/controls",
      "_view_module_version": "1.5.0",
      "_view_name": "HTMLView",
      "description": "",
      "description_tooltip": null,
      "layout": "IPY_MODEL_b159afa3acc04cc88f3e0e21a1861c3b",
      "placeholder": "​",
      "style": "IPY_MODEL_572bf0c8a5d24822925a64429dab2a85",
      "value": ""
     }
    },
    "880e37f3848349be8e6d94b2b08869b4": {
     "model_module": "@jupyter-widgets/controls",
     "model_module_version": "1.5.0",
     "model_name": "ProgressStyleModel",
     "state": {
      "_model_module": "@jupyter-widgets/controls",
      "_model_module_version": "1.5.0",
      "_model_name": "ProgressStyleModel",
      "_view_count": null,
      "_view_module": "@jupyter-widgets/base",
      "_view_module_version": "1.2.0",
      "_view_name": "StyleView",
      "bar_color": null,
      "description_width": ""
     }
    },
    "b159afa3acc04cc88f3e0e21a1861c3b": {
     "model_module": "@jupyter-widgets/base",
     "model_module_version": "1.2.0",
     "model_name": "LayoutModel",
     "state": {
      "_model_module": "@jupyter-widgets/base",
      "_model_module_version": "1.2.0",
      "_model_name": "LayoutModel",
      "_view_count": null,
      "_view_module": "@jupyter-widgets/base",
      "_view_module_version": "1.2.0",
      "_view_name": "LayoutView",
      "align_content": null,
      "align_items": null,
      "align_self": null,
      "border": null,
      "bottom": null,
      "display": null,
      "flex": null,
      "flex_flow": null,
      "grid_area": null,
      "grid_auto_columns": null,
      "grid_auto_flow": null,
      "grid_auto_rows": null,
      "grid_column": null,
      "grid_gap": null,
      "grid_row": null,
      "grid_template_areas": null,
      "grid_template_columns": null,
      "grid_template_rows": null,
      "height": null,
      "justify_content": null,
      "justify_items": null,
      "left": null,
      "margin": null,
      "max_height": null,
      "max_width": null,
      "min_height": null,
      "min_width": null,
      "object_fit": null,
      "object_position": null,
      "order": null,
      "overflow": null,
      "overflow_x": null,
      "overflow_y": null,
      "padding": null,
      "right": null,
      "top": null,
      "visibility": null,
      "width": null
     }
    },
    "b8dcaf7a4b0d470bbc27676443e98dda": {
     "model_module": "@jupyter-widgets/base",
     "model_module_version": "1.2.0",
     "model_name": "LayoutModel",
     "state": {
      "_model_module": "@jupyter-widgets/base",
      "_model_module_version": "1.2.0",
      "_model_name": "LayoutModel",
      "_view_count": null,
      "_view_module": "@jupyter-widgets/base",
      "_view_module_version": "1.2.0",
      "_view_name": "LayoutView",
      "align_content": null,
      "align_items": null,
      "align_self": null,
      "border": null,
      "bottom": null,
      "display": null,
      "flex": null,
      "flex_flow": null,
      "grid_area": null,
      "grid_auto_columns": null,
      "grid_auto_flow": null,
      "grid_auto_rows": null,
      "grid_column": null,
      "grid_gap": null,
      "grid_row": null,
      "grid_template_areas": null,
      "grid_template_columns": null,
      "grid_template_rows": null,
      "height": null,
      "justify_content": null,
      "justify_items": null,
      "left": null,
      "margin": null,
      "max_height": null,
      "max_width": null,
      "min_height": null,
      "min_width": null,
      "object_fit": null,
      "object_position": null,
      "order": null,
      "overflow": null,
      "overflow_x": null,
      "overflow_y": null,
      "padding": null,
      "right": null,
      "top": null,
      "visibility": null,
      "width": null
     }
    },
    "d731dc52afc94081b9bde5af0ce9f97f": {
     "model_module": "@jupyter-widgets/controls",
     "model_module_version": "1.5.0",
     "model_name": "DescriptionStyleModel",
     "state": {
      "_model_module": "@jupyter-widgets/controls",
      "_model_module_version": "1.5.0",
      "_model_name": "DescriptionStyleModel",
      "_view_count": null,
      "_view_module": "@jupyter-widgets/base",
      "_view_module_version": "1.2.0",
      "_view_name": "StyleView",
      "description_width": ""
     }
    },
    "d9b8bf770ed949aea735f8615af5a1ef": {
     "model_module": "@jupyter-widgets/controls",
     "model_module_version": "1.5.0",
     "model_name": "HTMLModel",
     "state": {
      "_dom_classes": [],
      "_model_module": "@jupyter-widgets/controls",
      "_model_module_version": "1.5.0",
      "_model_name": "HTMLModel",
      "_view_count": null,
      "_view_module": "@jupyter-widgets/controls",
      "_view_module_version": "1.5.0",
      "_view_name": "HTMLView",
      "description": "",
      "description_tooltip": null,
      "layout": "IPY_MODEL_dbe82e11694548c3ae2d89a8d427e680",
      "placeholder": "​",
      "style": "IPY_MODEL_d731dc52afc94081b9bde5af0ce9f97f",
      "value": "Loading pt checkpoint shards: 100% Completed | 2/2 [00:14&lt;00:00,  7.69s/it]\n"
     }
    },
    "dbe82e11694548c3ae2d89a8d427e680": {
     "model_module": "@jupyter-widgets/base",
     "model_module_version": "1.2.0",
     "model_name": "LayoutModel",
     "state": {
      "_model_module": "@jupyter-widgets/base",
      "_model_module_version": "1.2.0",
      "_model_name": "LayoutModel",
      "_view_count": null,
      "_view_module": "@jupyter-widgets/base",
      "_view_module_version": "1.2.0",
      "_view_name": "LayoutView",
      "align_content": null,
      "align_items": null,
      "align_self": null,
      "border": null,
      "bottom": null,
      "display": null,
      "flex": null,
      "flex_flow": null,
      "grid_area": null,
      "grid_auto_columns": null,
      "grid_auto_flow": null,
      "grid_auto_rows": null,
      "grid_column": null,
      "grid_gap": null,
      "grid_row": null,
      "grid_template_areas": null,
      "grid_template_columns": null,
      "grid_template_rows": null,
      "height": null,
      "justify_content": null,
      "justify_items": null,
      "left": null,
      "margin": null,
      "max_height": null,
      "max_width": null,
      "min_height": null,
      "min_width": null,
      "object_fit": null,
      "object_position": null,
      "order": null,
      "overflow": null,
      "overflow_x": null,
      "overflow_y": null,
      "padding": null,
      "right": null,
      "top": null,
      "visibility": null,
      "width": null
     }
    }
   }
  }
 },
 "nbformat": 4,
 "nbformat_minor": 0
}

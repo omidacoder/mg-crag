{
 "cells": [
  {
   "cell_type": "markdown",
   "metadata": {},
   "source": [
    "# Connect To Google Drive\n"
   ]
  },
  {
   "cell_type": "code",
   "execution_count": null,
   "metadata": {
    "colab": {
     "base_uri": "https://localhost:8080/"
    },
    "executionInfo": {
     "elapsed": 2461,
     "status": "ok",
     "timestamp": 1741011509078,
     "user": {
      "displayName": "Negin Msmi",
      "userId": "12224407573901585940"
     },
     "user_tz": -210
    },
    "id": "Lz6Kfz64T61b",
    "outputId": "e1095957-c1ca-4b6c-bbb6-ec171305051c"
   },
   "outputs": [],
   "source": [
    "# connecting to google drive\n",
    "from google.colab import drive\n",
    "drive.mount('/content/drive')"
   ]
  },
  {
   "cell_type": "markdown",
   "metadata": {},
   "source": [
    "# Install Packages"
   ]
  },
  {
   "cell_type": "code",
   "execution_count": null,
   "metadata": {},
   "outputs": [],
   "source": [
    "!pip install hdbscan\n",
    "!pip install scikit-learn-extra"
   ]
  },
  {
   "cell_type": "code",
   "execution_count": null,
   "metadata": {},
   "outputs": [],
   "source": [
    "import numpy as np\n",
    "from src.Helpers.Clustering import Clustering\n",
    "import hdbscan\n",
    "from sklearn.metrics import f1_score\n",
    "import torch\n",
    "from configuration import num_of_labeled_data"
   ]
  },
  {
   "cell_type": "markdown",
   "metadata": {},
   "source": [
    "# Prepare Data"
   ]
  },
  {
   "cell_type": "code",
   "execution_count": null,
   "metadata": {
    "id": "sIQColVVTl9b"
   },
   "outputs": [],
   "source": [
    "# creating dataset using some labeled and a lot of unlabeled samples\n",
    "import pickle\n",
    "data_dict = None\n",
    "with open('/content/human_supervision_data.pickle', 'rb') as handle:\n",
    "    data_dict = pickle.load(handle)"
   ]
  },
  {
   "cell_type": "code",
   "execution_count": null,
   "metadata": {
    "id": "UMk4_dKVUfeD"
   },
   "outputs": [],
   "source": [
    "# change structure\n",
    "prompt_template = \"qnli question: qqqqqq sentence: cccccc\"\n",
    "inputs = []\n",
    "outputs = []\n",
    "for key in data_dict.keys():\n",
    "  for item in data_dict[key]:\n",
    "    inputs.append(prompt_template.replace('qqqqqq',item[0]).replace('cccccc',item[1]))\n",
    "    outputs.append(2 if key == 'high' else 1 if key == 'medium' else 0)\n",
    "labeled_data = (inputs , outputs)"
   ]
  },
  {
   "cell_type": "code",
   "execution_count": null,
   "metadata": {
    "id": "QqB4zqDGYKfc"
   },
   "outputs": [],
   "source": [
    "\n",
    "# get unlabeled_data\n",
    "with open('/content/drive/MyDrive/Persian LLM/New Codes/CRAG/unlabeled_data_train_stripped.pickle', 'rb') as handle:\n",
    "    unlabeled_data = pickle.load(handle)"
   ]
  },
  {
   "cell_type": "code",
   "execution_count": null,
   "metadata": {
    "id": "uet2aJH5cJhM"
   },
   "outputs": [],
   "source": [
    "clustering = Clustering(unlabeled_data,labeled_data)\n",
    "with open('/content/drive/MyDrive/Persian LLM/New Codes/CRAG/embeddings_data_train_stripped.pickle', 'rb') as handle:\n",
    "    out_dict = pickle.load(handle)\n",
    "    clustering.data = out_dict['data']\n",
    "    clustering.labels = out_dict['labels']\n",
    "clustering.data = np.array(clustering.data)\n",
    "clustering.labels = np.array(clustering.labels)"
   ]
  },
  {
   "cell_type": "markdown",
   "metadata": {
    "id": "km8ZK_h67zsk"
   },
   "source": [
    "## Finding the intrinsic dimension"
   ]
  },
  {
   "cell_type": "markdown",
   "metadata": {},
   "source": [
    "The following code only shows the best dimension for the latent space of the auto-encoder"
   ]
  },
  {
   "cell_type": "code",
   "execution_count": null,
   "metadata": {
    "id": "hJfwd9w_8IKp"
   },
   "outputs": [],
   "source": [
    "!pip install skdim\n",
    "from skdim import id\n",
    "# Initialize the TwoNN estimator\n",
    "estimator = id.TwoNN()\n",
    "\n",
    "# Fit the model and estimate intrinsic dimension\n",
    "intrinsic_dim = estimator.fit_transform(clustering.data)\n",
    "print(intrinsic_dim)"
   ]
  },
  {
   "cell_type": "markdown",
   "metadata": {
    "id": "CyGzV13tEr96"
   },
   "source": [
    "## Dimension Reduction"
   ]
  },
  {
   "cell_type": "code",
   "execution_count": null,
   "metadata": {
    "colab": {
     "base_uri": "https://localhost:8080/"
    },
    "executionInfo": {
     "elapsed": 87765,
     "status": "ok",
     "timestamp": 1741011633028,
     "user": {
      "displayName": "Negin Msmi",
      "userId": "12224407573901585940"
     },
     "user_tz": -210
    },
    "id": "zpmYQ9JH4TRj",
    "outputId": "270fd642-6307-4cef-e02a-99aee6422ead"
   },
   "outputs": [],
   "source": [
    "# clustering.data = clustering.dimensionality_reduction_use_labeled_data_only()\n",
    "clustering.train_autoencoder()\n",
    "clustering.data = clustering.dimensionality_reduction()"
   ]
  },
  {
   "cell_type": "markdown",
   "metadata": {},
   "source": [
    "# Visualization"
   ]
  },
  {
   "cell_type": "code",
   "execution_count": null,
   "metadata": {
    "collapsed": true,
    "id": "sEibJbVednIO"
   },
   "outputs": [],
   "source": [
    "# import matplotlib.pyplot as plt\n",
    "# from sklearn.manifold import TSNE\n",
    "\n",
    "# # tsne = TSNE(n_components=2, random_state=42)\n",
    "# # tsne_data = tsne.fit_transform(clustering.data)\n",
    "# # tsne_data = clustering.data\n",
    "\n",
    "\n",
    "# tsne = TSNE(n_components=2, random_state=42)\n",
    "# tsne_data = tsne.fit_transform(clustering.data)\n",
    "\n",
    "# # labels = labeled_data[1] Wrong!\n",
    "# labels = clustering.labels[:num_of_labeled_data].tolist()\n",
    "# unknown_labels = [clustering.UNK_LABEL] * (num_of_data + num_of_labeled_data - len(labels))\n",
    "# labels += unknown_labels\n",
    "\n",
    "# color_map = {clustering.LOW_LABEL: ('gray', 'Low'), clustering.AMBIGOUS_LABEL: ('green', 'Medium'), clustering.HIGH_LABEL: ('red', 'High'), clustering.UNK_LABEL: ('black', 'Unknown')}\n",
    "\n",
    "# plt.figure(figsize=(10, 10))\n",
    "\n",
    "# indices = [i for i, x in enumerate(labels) if x == clustering.UNK_LABEL]\n",
    "# plt.scatter(tsne_data[indices, 0], tsne_data[indices, 1], c=color_map[clustering.UNK_LABEL][0], label=color_map[clustering.UNK_LABEL][1], zorder=1,s=4)\n",
    "\n",
    "# for label in set(labels):\n",
    "#    if label != clustering.UNK_LABEL:\n",
    "#       indices = [i for i, x in enumerate(labels) if x == label]\n",
    "#       plt.scatter(tsne_data[indices, 0], tsne_data[indices, 1], c=color_map[label][0], label=color_map[label][1], zorder=label+3,s=100)\n",
    "\n",
    "# plt.legend()\n",
    "# plt.title('TSNE Plot before clustering method')\n",
    "# plt.xlabel('X-axis')\n",
    "# plt.ylabel('Y-axis')\n",
    "# plt.show()"
   ]
  },
  {
   "cell_type": "markdown",
   "metadata": {},
   "source": [
    "# Applying Clustering Algorithm"
   ]
  },
  {
   "cell_type": "code",
   "execution_count": null,
   "metadata": {
    "id": "bOMgk2sK0HBl"
   },
   "outputs": [],
   "source": [
    "# uncomment one of the below lines\n",
    "# clustering_algorithm = \"hdbscan\"\n",
    "clustering_algorithm = \"kmeans\"\n",
    "# clustering_algorithm = \"agg\"\n",
    "# clustering_algorithm = \"ls\"\n",
    "# clustering_algorithm = \"kmedoids\""
   ]
  },
  {
   "cell_type": "code",
   "execution_count": null,
   "metadata": {
    "colab": {
     "base_uri": "https://localhost:8080/"
    },
    "executionInfo": {
     "elapsed": 98,
     "status": "ok",
     "timestamp": 1741011633441,
     "user": {
      "displayName": "Negin Msmi",
      "userId": "12224407573901585940"
     },
     "user_tz": -210
    },
    "id": "OS8qoNvRY0bU",
    "outputId": "ecb72832-5c32-47b1-b4df-1fa08e1fdbdd"
   },
   "outputs": [],
   "source": [
    "if clustering_algorithm == \"kmeans\":\n",
    "  new_labels = clustering.start_kmeans()\n",
    "elif clustering_algorithm == \"agg\":\n",
    "  new_labels = clustering.start_agglomerative()\n",
    "elif clustering_algorithm == \"hdbscan\":\n",
    "  new_labels = clustering.start_hdbscan()\n",
    "elif clustering_algorithm == \"ls\":\n",
    "  new_labels = clustering.start_label_spreading()\n",
    "elif clustering_algorithm == \"kmedoids\":\n",
    "  new_labels = clustering.start_kmedoids()\n",
    "\n"
   ]
  },
  {
   "cell_type": "markdown",
   "metadata": {
    "id": "sDZC3fNmcGNa"
   },
   "source": [
    "### Loading Test Data Here"
   ]
  },
  {
   "cell_type": "code",
   "execution_count": null,
   "metadata": {
    "colab": {
     "base_uri": "https://localhost:8080/"
    },
    "executionInfo": {
     "elapsed": 485,
     "status": "ok",
     "timestamp": 1741011633963,
     "user": {
      "displayName": "Negin Msmi",
      "userId": "12224407573901585940"
     },
     "user_tz": -210
    },
    "id": "opn4IFqWcOCr",
    "outputId": "499a71d7-b473-4b12-fbcd-f40ac3ae93b2"
   },
   "outputs": [],
   "source": [
    "\n",
    "\n",
    "with open('/content/embeddings_data.pickle', 'rb') as handle:\n",
    "    out_dict = pickle.load(handle)\n",
    "    data = np.array(out_dict['data'][:189])\n",
    "    labels = np.array(out_dict['labels'][:189])\n",
    "    dimention_reductioned_data = clustering.autoencoder.encoder(torch.tensor(data, dtype=torch.float32)).detach().numpy()\n",
    "    if clustering_algorithm == \"kmeans\":\n",
    "      predicted_labels = clustering.kmeans.predict(dimention_reductioned_data)\n",
    "    elif clustering_algorithm == \"agg\":\n",
    "      predicted_labels = clustering.agg.fit_predict(dimention_reductioned_data)\n",
    "    elif clustering_algorithm == \"hdbscan\":\n",
    "      predicted_labels= clustering.hdbscan.fit_predict(dimention_reductioned_data)\n",
    "    elif clustering_algorithm == \"ls\":\n",
    "      predicted_labels = clustering.label_spread.predict(dimention_reductioned_data)\n",
    "    elif clustering_algorithm == \"kmedoids\":\n",
    "      predicted_labels = clustering.kmedoids.predict(dimention_reductioned_data)\n",
    "\n",
    "    print(\"Accuracy on test passages: \",clustering.evaluate_clustering_results(real_labels=labels,predicted_labels=predicted_labels))\n",
    "    f1_score = f1_score(labels, predicted_labels, average='micro')\n",
    "    print(\"F1 Score: \", f1_score)"
   ]
  },
  {
   "cell_type": "code",
   "execution_count": null,
   "metadata": {
    "colab": {
     "base_uri": "https://localhost:8080/"
    },
    "executionInfo": {
     "elapsed": 1564,
     "status": "ok",
     "timestamp": 1741011635529,
     "user": {
      "displayName": "Negin Msmi",
      "userId": "12224407573901585940"
     },
     "user_tz": -210
    },
    "id": "utdI8pcgHJXB",
    "outputId": "3fc648c0-5409-4e6e-b4f9-c4ec2bf1455c"
   },
   "outputs": [],
   "source": [
    "with open('/content/embeddings_data_stripped.pickle', 'rb') as handle:\n",
    "    out_dict = pickle.load(handle)\n",
    "    data = np.array(out_dict['data'][:180])\n",
    "    labels = np.array(out_dict['labels'][:180])\n",
    "    dimention_reductioned_data = clustering.autoencoder.encoder(torch.tensor(data, dtype=torch.float32)).detach().numpy()\n",
    "    if clustering_algorithm == \"kmeans\":\n",
    "      predicted_labels = clustering.kmeans.predict(dimention_reductioned_data)\n",
    "    elif clustering_algorithm == \"agg\":\n",
    "      predicted_labels = clustering.agg.fit_predict(dimention_reductioned_data)\n",
    "    elif clustering_algorithm == \"hdbscan\":\n",
    "      predicted_labels, _ = hdbscan.approximate_predict(clustering.hdbscan,dimention_reductioned_data)\n",
    "    elif clustering_algorithm == \"ls\":\n",
    "      predicted_labels = clustering.label_spread.predict(dimention_reductioned_data)\n",
    "    elif clustering_algorithm == \"kmedoids\":\n",
    "      predicted_labels = clustering.kmedoids.predict(dimention_reductioned_data)\n",
    "    print(\"accuracy on test strips: \", clustering.evaluate_clustering_results(real_labels=labels,predicted_labels=predicted_labels))"
   ]
  },
  {
   "cell_type": "markdown",
   "metadata": {
    "id": "PBXyFuEbm8wO"
   },
   "source": [
    "# Evaluation and Save Results\n"
   ]
  },
  {
   "cell_type": "code",
   "execution_count": null,
   "metadata": {
    "colab": {
     "base_uri": "https://localhost:8080/"
    },
    "executionInfo": {
     "elapsed": 139,
     "status": "ok",
     "timestamp": 1741011729632,
     "user": {
      "displayName": "Negin Msmi",
      "userId": "12224407573901585940"
     },
     "user_tz": -210
    },
    "id": "iSSvbWSaqczU",
    "outputId": "5a30ab11-826c-4d22-f92d-2a4fe8e72882"
   },
   "outputs": [],
   "source": [
    "mapped_labels = clustering.map_labels(clustering.labels[:num_of_labeled_data], new_labels)"
   ]
  },
  {
   "cell_type": "code",
   "execution_count": null,
   "metadata": {
    "colab": {
     "base_uri": "https://localhost:8080/"
    },
    "executionInfo": {
     "elapsed": 28,
     "status": "ok",
     "timestamp": 1741011635608,
     "user": {
      "displayName": "Negin Msmi",
      "userId": "12224407573901585940"
     },
     "user_tz": -210
    },
    "id": "5odyqeAjOvuS",
    "outputId": "12111e5e-1798-4de1-f0ec-76d35614877a"
   },
   "outputs": [],
   "source": [
    "clustering.evaluate_clustering_results(real_labels=clustering.labels[:num_of_labeled_data],predicted_labels=new_labels[:num_of_labeled_data])"
   ]
  },
  {
   "cell_type": "code",
   "execution_count": null,
   "metadata": {
    "id": "2Xn1sqzrEuu6"
   },
   "outputs": [],
   "source": [
    "with open('/content/clustering_result.pickle', 'wb') as handle:\n",
    "    pickle.dump({\"texts\" : labeled_data[0] + unlabeled_data , \"labels\" : mapped_labels},handle)"
   ]
  }
 ],
 "metadata": {
  "colab": {
   "provenance": []
  },
  "kernelspec": {
   "display_name": "Python 3",
   "name": "python3"
  },
  "language_info": {
   "name": "python"
  }
 },
 "nbformat": 4,
 "nbformat_minor": 0
}

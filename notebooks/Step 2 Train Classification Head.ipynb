{
 "cells": [
  {
   "cell_type": "markdown",
   "metadata": {},
   "source": [
    "# Connect to Google Drive"
   ]
  },
  {
   "cell_type": "code",
   "execution_count": null,
   "metadata": {
    "colab": {
     "base_uri": "https://localhost:8080/"
    },
    "executionInfo": {
     "elapsed": 59867,
     "status": "ok",
     "timestamp": 1748193117357,
     "user": {
      "displayName": "Negin Msmi",
      "userId": "12224407573901585940"
     },
     "user_tz": -210
    },
    "id": "qT06IE4JI5Tg",
    "outputId": "a395e77d-0b26-47e2-d4bd-8de94c3d13da"
   },
   "outputs": [],
   "source": [
    "# connecting to google drive\n",
    "from google.colab import drive\n",
    "drive.mount('/content/drive')"
   ]
  },
  {
   "cell_type": "markdown",
   "metadata": {},
   "source": [
    "# Imports"
   ]
  },
  {
   "cell_type": "code",
   "execution_count": null,
   "metadata": {},
   "outputs": [],
   "source": [
    "from src.Helpers.ClassificationHeadTrainer import ClassificationHeadTrainer"
   ]
  },
  {
   "cell_type": "markdown",
   "metadata": {
    "id": "9hMtfO24PXfZ"
   },
   "source": [
    "## Prepare Data"
   ]
  },
  {
   "cell_type": "code",
   "execution_count": null,
   "metadata": {},
   "outputs": [],
   "source": [
    "trainer = ClassificationHeadTrainer()\n",
    "trainer.prepare_data('/content/clustering_results.pickle')"
   ]
  },
  {
   "cell_type": "markdown",
   "metadata": {
    "id": "iOpjA6LlFY2I"
   },
   "source": [
    "# Train Network"
   ]
  },
  {
   "cell_type": "markdown",
   "metadata": {},
   "source": [
    "Trainer will save the model state as .pt file for every epoch"
   ]
  },
  {
   "cell_type": "code",
   "execution_count": null,
   "metadata": {},
   "outputs": [],
   "source": [
    "trainer.train()"
   ]
  }
 ],
 "metadata": {
  "accelerator": "GPU",
  "colab": {
   "gpuType": "T4",
   "name": "",
   "version": ""
  },
  "kernelspec": {
   "display_name": "Python 3",
   "name": "python3"
  },
  "language_info": {
   "name": "python"
  }
 },
 "nbformat": 4,
 "nbformat_minor": 0
}
